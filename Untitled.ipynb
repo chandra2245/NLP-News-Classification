{
 "cells": [
  {
   "cell_type": "code",
   "execution_count": 1,
   "id": "868ded15-3ac4-4635-8f4e-29d47a5aaa1d",
   "metadata": {},
   "outputs": [],
   "source": [
    "import pandas as pd"
   ]
  },
  {
   "cell_type": "code",
   "execution_count": 2,
   "id": "2f0228c0-d53b-4e51-ab5c-488888a75fce",
   "metadata": {},
   "outputs": [],
   "source": [
    "train_df = pd.read_excel('train.csv')"
   ]
  },
  {
   "cell_type": "code",
   "execution_count": 3,
   "id": "fbb97b50-9c9a-4ee1-83fc-353b8f1d0063",
   "metadata": {},
   "outputs": [],
   "source": [
    "test_df = pd.read_excel('test.csv')"
   ]
  },
  {
   "cell_type": "code",
   "execution_count": 4,
   "id": "59820b87-07f8-4c20-a6b5-4c6e864ad781",
   "metadata": {},
   "outputs": [
    {
     "data": {
      "text/plain": [
       "'? ? ? said as a result of its december acquisition of space co it expects earnings per share in 1987 of 1 15 to 1 30 dlrs per share up from 70 cts in 1986 the company said pretax net should rise to nine to 10 mln dlrs from six mln dlrs in 1986 and rental operation revenues to 19 to 22 mln dlrs from 12 5 mln dlrs it said cash flow per share this year should be 2 50 to three dlrs reuter 3'"
      ]
     },
     "execution_count": 4,
     "metadata": {},
     "output_type": "execute_result"
    }
   ],
   "source": [
    "train_df.iloc[0]['text']"
   ]
  },
  {
   "cell_type": "code",
   "execution_count": 5,
   "id": "523b0b5d-ea53-4c21-acf8-1c2704cdb1b3",
   "metadata": {},
   "outputs": [
    {
     "data": {
      "text/plain": [
       "'? the great atlantic and pacific tea co said its three year 345 mln dlr capital program will be be substantially increased to ? growth and expansion plans for ? inc and ? inc over the next two years a and p said the acquisition of ? in august 1986 and ? in december helped us achieve better than expected results in the fourth quarter ended february 28 its net income from continuing operations jumped 52 6 pct to 20 7 mln dlrs or 55 cts a share in the latest quarter as sales increased 48 3 pct to 1 58 billion dlrs a and p gave no details on the expanded capital program but it did say it completed the first year of the program during 1986 a and p is 52 4 pct owned by lt ? ? of west germany reuter 3'"
      ]
     },
     "execution_count": 5,
     "metadata": {},
     "output_type": "execute_result"
    }
   ],
   "source": [
    "test_df.iloc[0]['text']"
   ]
  },
  {
   "cell_type": "markdown",
   "id": "e7a37ca0-897e-4b2c-a525-30207ea66231",
   "metadata": {},
   "source": [
    "## Removing Punctuation"
   ]
  },
  {
   "cell_type": "code",
   "execution_count": 6,
   "id": "ade2446e-a8c1-454a-b715-f67b66e9f505",
   "metadata": {},
   "outputs": [
    {
     "data": {
      "text/plain": [
       "'!\"#$%&\\'()*+,-./:;<=>?@[\\\\]^_`{|}~'"
      ]
     },
     "execution_count": 6,
     "metadata": {},
     "output_type": "execute_result"
    }
   ],
   "source": [
    "import string\n",
    "string.punctuation"
   ]
  },
  {
   "cell_type": "code",
   "execution_count": 7,
   "id": "fbf307f1-fc51-4c7d-9517-03ab05b87da4",
   "metadata": {},
   "outputs": [],
   "source": [
    "## Removing Punctuation\n",
    "\n",
    "def remove_punctuation(text):\n",
    "    no_punct=[words for words in text if words not in string.punctuation]\n",
    "    words_wo_punct=''.join(no_punct)\n",
    "    return words_wo_punct\n",
    "train_df['text']=train_df['text'].apply(lambda x: remove_punctuation(x))\n",
    "test_df['text']=train_df['text'].apply(lambda x: remove_punctuation(x))"
   ]
  },
  {
   "cell_type": "code",
   "execution_count": 8,
   "id": "bf0e19aa-ea58-415f-8661-77869f7395d7",
   "metadata": {},
   "outputs": [
    {
     "data": {
      "text/html": [
       "<div>\n",
       "<style scoped>\n",
       "    .dataframe tbody tr th:only-of-type {\n",
       "        vertical-align: middle;\n",
       "    }\n",
       "\n",
       "    .dataframe tbody tr th {\n",
       "        vertical-align: top;\n",
       "    }\n",
       "\n",
       "    .dataframe thead th {\n",
       "        text-align: right;\n",
       "    }\n",
       "</style>\n",
       "<table border=\"1\" class=\"dataframe\">\n",
       "  <thead>\n",
       "    <tr style=\"text-align: right;\">\n",
       "      <th></th>\n",
       "      <th>text</th>\n",
       "      <th>class</th>\n",
       "    </tr>\n",
       "  </thead>\n",
       "  <tbody>\n",
       "    <tr>\n",
       "      <th>0</th>\n",
       "      <td>said as a result of its december acquisitio...</td>\n",
       "      <td>3</td>\n",
       "    </tr>\n",
       "    <tr>\n",
       "      <th>1</th>\n",
       "      <td>generale de banque sa lt  br and lt heller ov...</td>\n",
       "      <td>4</td>\n",
       "    </tr>\n",
       "    <tr>\n",
       "      <th>2</th>\n",
       "      <td>shr 3 28 dlrs vs 22 cts shr diluted 2 99 dlrs...</td>\n",
       "      <td>3</td>\n",
       "    </tr>\n",
       "    <tr>\n",
       "      <th>3</th>\n",
       "      <td>the farmers home administration the u s agric...</td>\n",
       "      <td>4</td>\n",
       "    </tr>\n",
       "    <tr>\n",
       "      <th>4</th>\n",
       "      <td>seton co said its board has received a propos...</td>\n",
       "      <td>4</td>\n",
       "    </tr>\n",
       "    <tr>\n",
       "      <th>...</th>\n",
       "      <td>...</td>\n",
       "      <td>...</td>\n",
       "    </tr>\n",
       "    <tr>\n",
       "      <th>8977</th>\n",
       "      <td>finance minister kiichi miyazawa said japan h...</td>\n",
       "      <td>19</td>\n",
       "    </tr>\n",
       "    <tr>\n",
       "      <th>8978</th>\n",
       "      <td>the price of gold bullion is likely to rise i...</td>\n",
       "      <td>19</td>\n",
       "    </tr>\n",
       "    <tr>\n",
       "      <th>8979</th>\n",
       "      <td>international phoenix energy corp said it lau...</td>\n",
       "      <td>25</td>\n",
       "    </tr>\n",
       "    <tr>\n",
       "      <th>8980</th>\n",
       "      <td>shr loss 76 cts vs profit 50 cts net loss 19 ...</td>\n",
       "      <td>3</td>\n",
       "    </tr>\n",
       "    <tr>\n",
       "      <th>8981</th>\n",
       "      <td>currency fluctuations may  their influence on...</td>\n",
       "      <td>25</td>\n",
       "    </tr>\n",
       "  </tbody>\n",
       "</table>\n",
       "<p>8982 rows × 2 columns</p>\n",
       "</div>"
      ],
      "text/plain": [
       "                                                   text  class\n",
       "0        said as a result of its december acquisitio...      3\n",
       "1      generale de banque sa lt  br and lt heller ov...      4\n",
       "2      shr 3 28 dlrs vs 22 cts shr diluted 2 99 dlrs...      3\n",
       "3      the farmers home administration the u s agric...      4\n",
       "4      seton co said its board has received a propos...      4\n",
       "...                                                 ...    ...\n",
       "8977   finance minister kiichi miyazawa said japan h...     19\n",
       "8978   the price of gold bullion is likely to rise i...     19\n",
       "8979   international phoenix energy corp said it lau...     25\n",
       "8980   shr loss 76 cts vs profit 50 cts net loss 19 ...      3\n",
       "8981   currency fluctuations may  their influence on...     25\n",
       "\n",
       "[8982 rows x 2 columns]"
      ]
     },
     "execution_count": 8,
     "metadata": {},
     "output_type": "execute_result"
    }
   ],
   "source": [
    "train_df"
   ]
  },
  {
   "cell_type": "code",
   "execution_count": 9,
   "id": "8bfe0558-2de1-4c86-b856-5cfdcbdf53a5",
   "metadata": {},
   "outputs": [
    {
     "name": "stdout",
     "output_type": "stream",
     "text": [
      "<class 'pandas.core.frame.DataFrame'>\n",
      "RangeIndex: 8982 entries, 0 to 8981\n",
      "Data columns (total 2 columns):\n",
      " #   Column  Non-Null Count  Dtype \n",
      "---  ------  --------------  ----- \n",
      " 0   text    8982 non-null   object\n",
      " 1   class   8982 non-null   int64 \n",
      "dtypes: int64(1), object(1)\n",
      "memory usage: 140.5+ KB\n"
     ]
    }
   ],
   "source": [
    "train_df.info()"
   ]
  },
  {
   "cell_type": "code",
   "execution_count": 10,
   "id": "aa8abc0d-163b-4ccc-a7f2-b3dad0ea5b59",
   "metadata": {},
   "outputs": [
    {
     "data": {
      "text/plain": [
       "3     3159\n",
       "4     1949\n",
       "19     549\n",
       "16     444\n",
       "1      432\n",
       "11     390\n",
       "20     269\n",
       "13     172\n",
       "8      139\n",
       "10     124\n",
       "9      101\n",
       "21     100\n",
       "25      92\n",
       "2       74\n",
       "18      66\n",
       "24      62\n",
       "0       55\n",
       "34      50\n",
       "12      49\n",
       "36      49\n",
       "6       48\n",
       "28      48\n",
       "30      45\n",
       "23      41\n",
       "31      39\n",
       "17      39\n",
       "40      36\n",
       "32      32\n",
       "41      30\n",
       "14      26\n",
       "39      24\n",
       "26      24\n",
       "43      21\n",
       "15      20\n",
       "29      19\n",
       "37      19\n",
       "38      19\n",
       "45      18\n",
       "5       17\n",
       "7       16\n",
       "27      15\n",
       "22      15\n",
       "42      13\n",
       "44      12\n",
       "33      11\n",
       "35      10\n",
       "Name: class, dtype: int64"
      ]
     },
     "execution_count": 10,
     "metadata": {},
     "output_type": "execute_result"
    }
   ],
   "source": [
    "train_df['class'].value_counts()"
   ]
  },
  {
   "cell_type": "code",
   "execution_count": 11,
   "id": "d27e1a99-4d4c-41f8-9b3e-c78f88db8f9a",
   "metadata": {},
   "outputs": [
    {
     "data": {
      "text/plain": [
       "247"
      ]
     },
     "execution_count": 11,
     "metadata": {},
     "output_type": "execute_result"
    }
   ],
   "source": [
    "train_df.duplicated().sum()"
   ]
  },
  {
   "cell_type": "code",
   "execution_count": 12,
   "id": "30306d67-2444-479c-896b-b70aea75c76c",
   "metadata": {},
   "outputs": [],
   "source": [
    "train_df.drop_duplicates(keep='last', inplace=True) \n",
    "test_df.drop_duplicates(keep='last', inplace=True) \n"
   ]
  },
  {
   "cell_type": "code",
   "execution_count": 13,
   "id": "5318a469-d3d9-4590-a7f2-c921acfa37cb",
   "metadata": {},
   "outputs": [
    {
     "name": "stdout",
     "output_type": "stream",
     "text": [
      "0\n"
     ]
    }
   ],
   "source": [
    "print(len(train_df[train_df['text'] == \"\"]))"
   ]
  },
  {
   "cell_type": "code",
   "execution_count": 14,
   "id": "89d18aa7-124d-4080-894b-cfffbd009222",
   "metadata": {},
   "outputs": [
    {
     "name": "stderr",
     "output_type": "stream",
     "text": [
      "[nltk_data] Downloading package stopwords to\n",
      "[nltk_data]     C:\\Users\\Arush\\AppData\\Roaming\\nltk_data...\n",
      "[nltk_data]   Package stopwords is already up-to-date!\n"
     ]
    }
   ],
   "source": [
    "import nltk\n",
    "nltk.download('stopwords')\n",
    "stopword = nltk.corpus.stopwords.words('english')"
   ]
  },
  {
   "cell_type": "code",
   "execution_count": 15,
   "id": "4d3891d9-c38f-4df2-aa84-446d10396717",
   "metadata": {},
   "outputs": [
    {
     "data": {
      "text/html": [
       "<div>\n",
       "<style scoped>\n",
       "    .dataframe tbody tr th:only-of-type {\n",
       "        vertical-align: middle;\n",
       "    }\n",
       "\n",
       "    .dataframe tbody tr th {\n",
       "        vertical-align: top;\n",
       "    }\n",
       "\n",
       "    .dataframe thead th {\n",
       "        text-align: right;\n",
       "    }\n",
       "</style>\n",
       "<table border=\"1\" class=\"dataframe\">\n",
       "  <thead>\n",
       "    <tr style=\"text-align: right;\">\n",
       "      <th></th>\n",
       "      <th>text</th>\n",
       "      <th>class</th>\n",
       "    </tr>\n",
       "  </thead>\n",
       "  <tbody>\n",
       "    <tr>\n",
       "      <th>0</th>\n",
       "      <td>said as a result of its december acquisitio...</td>\n",
       "      <td>3</td>\n",
       "    </tr>\n",
       "    <tr>\n",
       "      <th>1</th>\n",
       "      <td>generale de banque sa lt  br and lt heller ov...</td>\n",
       "      <td>4</td>\n",
       "    </tr>\n",
       "    <tr>\n",
       "      <th>2</th>\n",
       "      <td>shr 3 28 dlrs vs 22 cts shr diluted 2 99 dlrs...</td>\n",
       "      <td>3</td>\n",
       "    </tr>\n",
       "    <tr>\n",
       "      <th>3</th>\n",
       "      <td>the farmers home administration the u s agric...</td>\n",
       "      <td>4</td>\n",
       "    </tr>\n",
       "    <tr>\n",
       "      <th>4</th>\n",
       "      <td>seton co said its board has received a propos...</td>\n",
       "      <td>4</td>\n",
       "    </tr>\n",
       "    <tr>\n",
       "      <th>...</th>\n",
       "      <td>...</td>\n",
       "      <td>...</td>\n",
       "    </tr>\n",
       "    <tr>\n",
       "      <th>8977</th>\n",
       "      <td>finance minister kiichi miyazawa said japan h...</td>\n",
       "      <td>19</td>\n",
       "    </tr>\n",
       "    <tr>\n",
       "      <th>8978</th>\n",
       "      <td>the price of gold bullion is likely to rise i...</td>\n",
       "      <td>19</td>\n",
       "    </tr>\n",
       "    <tr>\n",
       "      <th>8979</th>\n",
       "      <td>international phoenix energy corp said it lau...</td>\n",
       "      <td>25</td>\n",
       "    </tr>\n",
       "    <tr>\n",
       "      <th>8980</th>\n",
       "      <td>shr loss 76 cts vs profit 50 cts net loss 19 ...</td>\n",
       "      <td>3</td>\n",
       "    </tr>\n",
       "    <tr>\n",
       "      <th>8981</th>\n",
       "      <td>currency fluctuations may  their influence on...</td>\n",
       "      <td>25</td>\n",
       "    </tr>\n",
       "  </tbody>\n",
       "</table>\n",
       "<p>8735 rows × 2 columns</p>\n",
       "</div>"
      ],
      "text/plain": [
       "                                                   text  class\n",
       "0        said as a result of its december acquisitio...      3\n",
       "1      generale de banque sa lt  br and lt heller ov...      4\n",
       "2      shr 3 28 dlrs vs 22 cts shr diluted 2 99 dlrs...      3\n",
       "3      the farmers home administration the u s agric...      4\n",
       "4      seton co said its board has received a propos...      4\n",
       "...                                                 ...    ...\n",
       "8977   finance minister kiichi miyazawa said japan h...     19\n",
       "8978   the price of gold bullion is likely to rise i...     19\n",
       "8979   international phoenix energy corp said it lau...     25\n",
       "8980   shr loss 76 cts vs profit 50 cts net loss 19 ...      3\n",
       "8981   currency fluctuations may  their influence on...     25\n",
       "\n",
       "[8735 rows x 2 columns]"
      ]
     },
     "execution_count": 15,
     "metadata": {},
     "output_type": "execute_result"
    }
   ],
   "source": [
    "train_df"
   ]
  },
  {
   "cell_type": "code",
   "execution_count": 16,
   "id": "071feb78-d1f4-4247-ba33-c42e82c72d92",
   "metadata": {},
   "outputs": [],
   "source": [
    "def remove_stopwords(text):\n",
    "    text=text.split()\n",
    "    text=[word for word in text if word not in stopword]\n",
    "    return \" \".join(text)\n",
    "train_df['text'] = train_df['text'].apply(lambda x: remove_stopwords(x))\n",
    "test_df['text'] = test_df['text'].apply(lambda x: remove_stopwords(x))"
   ]
  },
  {
   "cell_type": "code",
   "execution_count": 17,
   "id": "b7eae82a-0529-4bb3-a46f-fcccf283f337",
   "metadata": {},
   "outputs": [
    {
     "data": {
      "text/html": [
       "<div>\n",
       "<style scoped>\n",
       "    .dataframe tbody tr th:only-of-type {\n",
       "        vertical-align: middle;\n",
       "    }\n",
       "\n",
       "    .dataframe tbody tr th {\n",
       "        vertical-align: top;\n",
       "    }\n",
       "\n",
       "    .dataframe thead th {\n",
       "        text-align: right;\n",
       "    }\n",
       "</style>\n",
       "<table border=\"1\" class=\"dataframe\">\n",
       "  <thead>\n",
       "    <tr style=\"text-align: right;\">\n",
       "      <th></th>\n",
       "      <th>text</th>\n",
       "      <th>class</th>\n",
       "    </tr>\n",
       "  </thead>\n",
       "  <tbody>\n",
       "    <tr>\n",
       "      <th>0</th>\n",
       "      <td>said result december acquisition space co expe...</td>\n",
       "      <td>3</td>\n",
       "    </tr>\n",
       "    <tr>\n",
       "      <th>1</th>\n",
       "      <td>generale de banque sa lt br lt heller overseas...</td>\n",
       "      <td>4</td>\n",
       "    </tr>\n",
       "    <tr>\n",
       "      <th>2</th>\n",
       "      <td>shr 3 28 dlrs vs 22 cts shr diluted 2 99 dlrs ...</td>\n",
       "      <td>3</td>\n",
       "    </tr>\n",
       "    <tr>\n",
       "      <th>3</th>\n",
       "      <td>farmers home administration u agriculture depa...</td>\n",
       "      <td>4</td>\n",
       "    </tr>\n",
       "    <tr>\n",
       "      <th>4</th>\n",
       "      <td>seton co said board received proposal chairman...</td>\n",
       "      <td>4</td>\n",
       "    </tr>\n",
       "    <tr>\n",
       "      <th>...</th>\n",
       "      <td>...</td>\n",
       "      <td>...</td>\n",
       "    </tr>\n",
       "    <tr>\n",
       "      <th>8977</th>\n",
       "      <td>finance minister kiichi miyazawa said japan pl...</td>\n",
       "      <td>19</td>\n",
       "    </tr>\n",
       "    <tr>\n",
       "      <th>8978</th>\n",
       "      <td>price gold bullion likely rise second half yea...</td>\n",
       "      <td>19</td>\n",
       "    </tr>\n",
       "    <tr>\n",
       "      <th>8979</th>\n",
       "      <td>international phoenix energy corp said launche...</td>\n",
       "      <td>25</td>\n",
       "    </tr>\n",
       "    <tr>\n",
       "      <th>8980</th>\n",
       "      <td>shr loss 76 cts vs profit 50 cts net loss 19 1...</td>\n",
       "      <td>3</td>\n",
       "    </tr>\n",
       "    <tr>\n",
       "      <th>8981</th>\n",
       "      <td>currency fluctuations may influence bullion ma...</td>\n",
       "      <td>25</td>\n",
       "    </tr>\n",
       "  </tbody>\n",
       "</table>\n",
       "<p>8735 rows × 2 columns</p>\n",
       "</div>"
      ],
      "text/plain": [
       "                                                   text  class\n",
       "0     said result december acquisition space co expe...      3\n",
       "1     generale de banque sa lt br lt heller overseas...      4\n",
       "2     shr 3 28 dlrs vs 22 cts shr diluted 2 99 dlrs ...      3\n",
       "3     farmers home administration u agriculture depa...      4\n",
       "4     seton co said board received proposal chairman...      4\n",
       "...                                                 ...    ...\n",
       "8977  finance minister kiichi miyazawa said japan pl...     19\n",
       "8978  price gold bullion likely rise second half yea...     19\n",
       "8979  international phoenix energy corp said launche...     25\n",
       "8980  shr loss 76 cts vs profit 50 cts net loss 19 1...      3\n",
       "8981  currency fluctuations may influence bullion ma...     25\n",
       "\n",
       "[8735 rows x 2 columns]"
      ]
     },
     "execution_count": 17,
     "metadata": {},
     "output_type": "execute_result"
    }
   ],
   "source": [
    "train_df"
   ]
  },
  {
   "cell_type": "code",
   "execution_count": 18,
   "id": "586611c1-01de-4bec-a5ef-9e770c847938",
   "metadata": {},
   "outputs": [],
   "source": [
    "import re\n",
    "def remove_num(line):\n",
    "    line = re.sub(\"(^|\\W)\\d+($|\\W)\", \" \", line)\n",
    "    return line\n",
    "train_df['text'] = train_df['text'].apply(lambda x: remove_num(x))\n",
    "test_df['text'] = test_df['text'].apply(lambda x: remove_num(x))"
   ]
  },
  {
   "cell_type": "code",
   "execution_count": 19,
   "id": "3482d96e-2b8f-4f6b-8a06-dc8b086fb88f",
   "metadata": {},
   "outputs": [
    {
     "data": {
      "text/html": [
       "<div>\n",
       "<style scoped>\n",
       "    .dataframe tbody tr th:only-of-type {\n",
       "        vertical-align: middle;\n",
       "    }\n",
       "\n",
       "    .dataframe tbody tr th {\n",
       "        vertical-align: top;\n",
       "    }\n",
       "\n",
       "    .dataframe thead th {\n",
       "        text-align: right;\n",
       "    }\n",
       "</style>\n",
       "<table border=\"1\" class=\"dataframe\">\n",
       "  <thead>\n",
       "    <tr style=\"text-align: right;\">\n",
       "      <th></th>\n",
       "      <th>id</th>\n",
       "      <th>text</th>\n",
       "    </tr>\n",
       "  </thead>\n",
       "  <tbody>\n",
       "    <tr>\n",
       "      <th>0</th>\n",
       "      <td>1</td>\n",
       "      <td>said result december acquisition space co expe...</td>\n",
       "    </tr>\n",
       "    <tr>\n",
       "      <th>1</th>\n",
       "      <td>2</td>\n",
       "      <td>generale de banque sa lt br lt heller overseas...</td>\n",
       "    </tr>\n",
       "    <tr>\n",
       "      <th>2</th>\n",
       "      <td>3</td>\n",
       "      <td>shr 28 dlrs vs cts shr diluted 99 dlrs vs cts ...</td>\n",
       "    </tr>\n",
       "    <tr>\n",
       "      <th>3</th>\n",
       "      <td>4</td>\n",
       "      <td>farmers home administration u agriculture depa...</td>\n",
       "    </tr>\n",
       "    <tr>\n",
       "      <th>4</th>\n",
       "      <td>5</td>\n",
       "      <td>seton co said board received proposal chairman...</td>\n",
       "    </tr>\n",
       "    <tr>\n",
       "      <th>...</th>\n",
       "      <td>...</td>\n",
       "      <td>...</td>\n",
       "    </tr>\n",
       "    <tr>\n",
       "      <th>2241</th>\n",
       "      <td>2242</td>\n",
       "      <td>plc lt l said offer lt estates ltd would remai...</td>\n",
       "    </tr>\n",
       "    <tr>\n",
       "      <th>2242</th>\n",
       "      <td>2243</td>\n",
       "      <td>shr profit one ct vs loss nine cts net profit ...</td>\n",
       "    </tr>\n",
       "    <tr>\n",
       "      <th>2243</th>\n",
       "      <td>2244</td>\n",
       "      <td>trust bristol myers shares announced initial d...</td>\n",
       "    </tr>\n",
       "    <tr>\n",
       "      <th>2244</th>\n",
       "      <td>2245</td>\n",
       "      <td>shr cts vs cts net 150 vs 699 sales 8 mln vs 3...</td>\n",
       "    </tr>\n",
       "    <tr>\n",
       "      <th>2245</th>\n",
       "      <td>2246</td>\n",
       "      <td>shr cts vs one dlr net 413 vs 776 assets 3 mln...</td>\n",
       "    </tr>\n",
       "  </tbody>\n",
       "</table>\n",
       "<p>2246 rows × 2 columns</p>\n",
       "</div>"
      ],
      "text/plain": [
       "        id                                               text\n",
       "0        1  said result december acquisition space co expe...\n",
       "1        2  generale de banque sa lt br lt heller overseas...\n",
       "2        3  shr 28 dlrs vs cts shr diluted 99 dlrs vs cts ...\n",
       "3        4  farmers home administration u agriculture depa...\n",
       "4        5  seton co said board received proposal chairman...\n",
       "...    ...                                                ...\n",
       "2241  2242  plc lt l said offer lt estates ltd would remai...\n",
       "2242  2243  shr profit one ct vs loss nine cts net profit ...\n",
       "2243  2244  trust bristol myers shares announced initial d...\n",
       "2244  2245  shr cts vs cts net 150 vs 699 sales 8 mln vs 3...\n",
       "2245  2246  shr cts vs one dlr net 413 vs 776 assets 3 mln...\n",
       "\n",
       "[2246 rows x 2 columns]"
      ]
     },
     "execution_count": 19,
     "metadata": {},
     "output_type": "execute_result"
    }
   ],
   "source": [
    "#train_df['class'].value_counts()\n",
    "test_df"
   ]
  },
  {
   "cell_type": "code",
   "execution_count": 20,
   "id": "2142709b-e410-4202-bb97-280bd49955e0",
   "metadata": {},
   "outputs": [],
   "source": [
    "from sklearn.model_selection import train_test_split\n",
    "\n",
    "X = train_df['text']\n",
    "y = train_df['class']\n",
    "\n",
    "X_train, X_test, y_train, y_test = train_test_split(X, y, test_size=0.2, random_state=42)"
   ]
  },
  {
   "cell_type": "code",
   "execution_count": 21,
   "id": "51f4d850-5df8-4729-bfb8-a84246b5325d",
   "metadata": {},
   "outputs": [],
   "source": [
    "from sklearn.pipeline import Pipeline\n",
    "from sklearn.feature_extraction.text import TfidfVectorizer\n",
    "from sklearn.naive_bayes import MultinomialNB\n",
    "from sklearn.svm import LinearSVC\n",
    "\n",
    "# Naïve Bayes:\n",
    "text_clf_nb = Pipeline([('tfidf', TfidfVectorizer()),\n",
    "                     ('clf', MultinomialNB()),\n",
    "])\n",
    "\n",
    "# Linear SVC:\n",
    "text_clf_lsvc = Pipeline([('tfidf', TfidfVectorizer()),\n",
    "                     ('clf', LinearSVC()),\n",
    "])"
   ]
  },
  {
   "cell_type": "code",
   "execution_count": 22,
   "id": "f4d211c2-de4c-421e-97b4-1d50b84e3974",
   "metadata": {},
   "outputs": [
    {
     "data": {
      "text/plain": [
       "Pipeline(steps=[('tfidf', TfidfVectorizer()), ('clf', LinearSVC())])"
      ]
     },
     "execution_count": 22,
     "metadata": {},
     "output_type": "execute_result"
    }
   ],
   "source": [
    "text_clf_lsvc.fit(X_train, y_train)"
   ]
  },
  {
   "cell_type": "code",
   "execution_count": 32,
   "id": "a6a7201b-abaa-45f5-a036-0f30963d5310",
   "metadata": {},
   "outputs": [],
   "source": [
    "predictions = text_clf_lsvc.predict(X)"
   ]
  },
  {
   "cell_type": "code",
   "execution_count": 34,
   "id": "df97ac63-4330-44d7-9fc3-db6289cc6ead",
   "metadata": {},
   "outputs": [
    {
     "name": "stdout",
     "output_type": "stream",
     "text": [
      "0.9419576416714367\n"
     ]
    }
   ],
   "source": [
    "# Print the overall accuracy\n",
    "from sklearn import metrics\n",
    "print(metrics.accuracy_score(y,predictions))"
   ]
  },
  {
   "cell_type": "code",
   "execution_count": 36,
   "id": "af478dfb-befb-4356-b9f8-b174c01997c6",
   "metadata": {},
   "outputs": [
    {
     "name": "stdout",
     "output_type": "stream",
     "text": [
      "              precision    recall  f1-score   support\n",
      "\n",
      "           0       0.91      0.91      0.91        54\n",
      "           1       0.91      0.94      0.93       426\n",
      "           2       0.93      0.93      0.93        74\n",
      "           3       0.96      0.97      0.97      3100\n",
      "           4       0.95      0.96      0.95      1907\n",
      "           5       0.80      0.47      0.59        17\n",
      "           6       1.00      1.00      1.00        48\n",
      "           7       0.93      0.87      0.90        15\n",
      "           8       0.89      0.84      0.87       121\n",
      "           9       0.95      0.96      0.96       101\n",
      "          10       0.94      0.95      0.94       123\n",
      "          11       0.95      0.93      0.94       378\n",
      "          12       0.93      0.90      0.91        48\n",
      "          13       0.94      0.94      0.94       169\n",
      "          14       0.89      0.92      0.91        26\n",
      "          15       1.00      0.95      0.97        20\n",
      "          16       0.92      0.92      0.92       427\n",
      "          17       0.92      0.95      0.94        38\n",
      "          18       0.95      0.95      0.95        63\n",
      "          19       0.89      0.89      0.89       508\n",
      "          20       0.86      0.83      0.84       251\n",
      "          21       0.92      0.97      0.94        97\n",
      "          22       0.93      0.93      0.93        15\n",
      "          23       0.93      0.90      0.91        41\n",
      "          24       0.93      0.89      0.91        62\n",
      "          25       0.92      0.99      0.95        85\n",
      "          26       1.00      0.96      0.98        23\n",
      "          27       0.94      1.00      0.97        15\n",
      "          28       0.90      0.94      0.92        47\n",
      "          29       1.00      0.84      0.91        19\n",
      "          30       0.95      0.90      0.93        42\n",
      "          31       0.95      0.95      0.95        39\n",
      "          32       1.00      0.91      0.95        32\n",
      "          33       1.00      1.00      1.00        11\n",
      "          34       0.90      0.98      0.94        48\n",
      "          35       1.00      0.80      0.89        10\n",
      "          36       0.92      0.74      0.82        46\n",
      "          37       0.89      0.89      0.89        19\n",
      "          38       0.89      0.89      0.89        19\n",
      "          39       1.00      0.83      0.91        24\n",
      "          40       1.00      0.60      0.75        35\n",
      "          41       0.96      0.77      0.85        30\n",
      "          42       1.00      0.85      0.92        13\n",
      "          43       0.91      1.00      0.95        21\n",
      "          44       1.00      0.92      0.96        12\n",
      "          45       0.93      0.88      0.90        16\n",
      "\n",
      "    accuracy                           0.94      8735\n",
      "   macro avg       0.94      0.90      0.92      8735\n",
      "weighted avg       0.94      0.94      0.94      8735\n",
      "\n"
     ]
    }
   ],
   "source": [
    "# Print a classification report\n",
    "print(metrics.classification_report(y,predictions))"
   ]
  },
  {
   "cell_type": "code",
   "execution_count": 26,
   "id": "ec0279c3-1328-4a5a-8bcc-900b74046d3c",
   "metadata": {},
   "outputs": [],
   "source": [
    "pred=text_clf_lsvc.predict(test_df['text'])"
   ]
  },
  {
   "cell_type": "code",
   "execution_count": 27,
   "id": "a4d4f375-3ebc-4151-9207-e8697ea8ad53",
   "metadata": {},
   "outputs": [
    {
     "data": {
      "text/plain": [
       "array([3, 4, 3, 4, 4], dtype=int64)"
      ]
     },
     "execution_count": 27,
     "metadata": {},
     "output_type": "execute_result"
    }
   ],
   "source": [
    "pred[:5]"
   ]
  },
  {
   "cell_type": "code",
   "execution_count": 28,
   "id": "6dd892e7-f1e7-44a2-91c6-414cdbd7dbb6",
   "metadata": {},
   "outputs": [],
   "source": [
    "dataSet = pd.DataFrame()"
   ]
  },
  {
   "cell_type": "code",
   "execution_count": 29,
   "id": "e0986d46-238d-4c6f-b99d-125ff56d8420",
   "metadata": {},
   "outputs": [],
   "source": [
    "dataSet['id']=test_df['id']\n",
    "dataSet['value']=pred\n"
   ]
  },
  {
   "cell_type": "code",
   "execution_count": 30,
   "id": "10ff3b46-08e2-475e-a062-e6f81c8528fa",
   "metadata": {},
   "outputs": [],
   "source": [
    "dataSet=dataSet.values"
   ]
  },
  {
   "cell_type": "code",
   "execution_count": null,
   "id": "4c7bdc98-0c3a-455d-be6f-96e4a2351745",
   "metadata": {},
   "outputs": [],
   "source": []
  },
  {
   "cell_type": "code",
   "execution_count": 31,
   "id": "72b45c92-d4bb-430a-992f-962177e624bf",
   "metadata": {},
   "outputs": [
    {
     "name": "stdout",
     "output_type": "stream",
     "text": [
      "{\"message\":\"Internal Server Error\"}\n"
     ]
    }
   ],
   "source": [
    "import requests\n",
    "dataString=\"\"\n",
    "for loop in range(dataSet.shape[0]):\n",
    "    if loop==0:\n",
    "        dataString= str(int(dataSet[loop][0]))+','+str(int(dataSet[loop][1]))\n",
    "    else:\n",
    "        dataString = dataString+\"\\n\"+str(int(dataSet[loop][0]))+','+str(int(dataSet[loop][1]))\n",
    "postData={}\n",
    "postData['challengeName'] = 'newsclassification'\n",
    "postData['userID']='918600'\n",
    "postData['challengeType']='multiclassfication'\n",
    "postData['submissionData']=dataString\n",
    "url = 'https://8n46gxwibi.execute-api.us-east-2.amazonaws.com/default/computeModelScore'\n",
    "x=requests.post(url,json=postData)\n",
    "print(x.text)"
   ]
  },
  {
   "cell_type": "code",
   "execution_count": null,
   "id": "7378114d-fbd0-4373-af80-e53c41cb6b90",
   "metadata": {},
   "outputs": [],
   "source": []
  }
 ],
 "metadata": {
  "kernelspec": {
   "display_name": "Python 3",
   "language": "python",
   "name": "python3"
  },
  "language_info": {
   "codemirror_mode": {
    "name": "ipython",
    "version": 3
   },
   "file_extension": ".py",
   "mimetype": "text/x-python",
   "name": "python",
   "nbconvert_exporter": "python",
   "pygments_lexer": "ipython3",
   "version": "3.8.8"
  }
 },
 "nbformat": 4,
 "nbformat_minor": 5
}
