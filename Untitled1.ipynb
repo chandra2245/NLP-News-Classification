{
 "cells": [
  {
   "cell_type": "code",
   "execution_count": 1,
   "id": "123ae82c-f054-423e-83c4-16aa67188786",
   "metadata": {},
   "outputs": [
    {
     "name": "stderr",
     "output_type": "stream",
     "text": [
      "[nltk_data] Downloading package stopwords to\n",
      "[nltk_data]     C:\\Users\\Arush\\AppData\\Roaming\\nltk_data...\n",
      "[nltk_data]   Package stopwords is already up-to-date!\n"
     ]
    },
    {
     "data": {
      "text/plain": [
       "True"
      ]
     },
     "execution_count": 1,
     "metadata": {},
     "output_type": "execute_result"
    }
   ],
   "source": [
    "import pandas as pd\n",
    "import nltk\n",
    "import re\n",
    "import string\n",
    "nltk.download('stopwords')"
   ]
  },
  {
   "cell_type": "code",
   "execution_count": 2,
   "id": "e594fe96-e619-4d4d-bd06-579d32a124d8",
   "metadata": {},
   "outputs": [],
   "source": [
    "train_df=pd.read_excel('train.csv')\n",
    "test_df=pd.read_excel('test.csv')"
   ]
  },
  {
   "cell_type": "code",
   "execution_count": 3,
   "id": "f08a6908-ca0d-4df4-8f5e-af45adefcc3f",
   "metadata": {},
   "outputs": [],
   "source": [
    "def data_preprocess():\n",
    "    ## Removing Punctuation\n",
    "\n",
    "    def remove_punctuation(text):\n",
    "        no_punct=[words for words in text if words not in string.punctuation]\n",
    "        words_wo_punct=''.join(no_punct)\n",
    "        return words_wo_punct\n",
    "    train_df['text']=train_df['text'].apply(lambda x: remove_punctuation(x))\n",
    "    test_df['text']=train_df['text'].apply(lambda x: remove_punctuation(x))\n",
    "    \n",
    "    ## Removing Stopwords\n",
    "    stopword = nltk.corpus.stopwords.words('english')\n",
    "    def remove_stopwords(text):\n",
    "        text=text.split()\n",
    "        text=[word for word in text if word not in stopword]\n",
    "        return \" \".join(text)\n",
    "    train_df['text'] = train_df['text'].apply(lambda x: remove_stopwords(x))\n",
    "    test_df['text'] = test_df['text'].apply(lambda x: remove_stopwords(x))\n",
    "    \n",
    "    ## Removing Numbers\n",
    "    def remove_num(line):\n",
    "        line = re.sub(\"(^|\\W)\\d+($|\\W)\", \" \", line)\n",
    "        return line\n",
    "    train_df['text'] = train_df['text'].apply(lambda x: remove_num(x))\n",
    "    test_df['text'] = test_df['text'].apply(lambda x: remove_num(x))\n",
    "    \n",
    "data_preprocess()"
   ]
  },
  {
   "cell_type": "code",
   "execution_count": 7,
   "id": "de89ca62-0b6b-4ef6-b44c-8649dd7f1a62",
   "metadata": {},
   "outputs": [
    {
     "data": {
      "text/plain": [
       "0       said result december acquisition space co expe...\n",
       "2       shr 28 dlrs vs cts shr diluted 99 dlrs vs cts ...\n",
       "7       shr cts vs cts net 937 vs 323 revs 9 mln vs 7 ...\n",
       "8       oper shr cts vs cts oper net 255 vs 6 mln revs...\n",
       "10      period ended december shr profit cts vs loss c...\n",
       "                              ...                        \n",
       "8970    british telecommunications plc lt l expects an...\n",
       "8973    period ended january shr loss six cts vs profi...\n",
       "8974    shr cts vs cts net 362 vs 759 revs 0 mln vs 8 ...\n",
       "8975    shr loss cts vs loss 57 dlr net loss 526 vs lo...\n",
       "8980    shr loss cts vs profit cts net loss 186 vs pro...\n",
       "Name: text, Length: 3159, dtype: object"
      ]
     },
     "execution_count": 7,
     "metadata": {},
     "output_type": "execute_result"
    }
   ],
   "source": [
    "train_df[train_df['class']==3]['text']"
   ]
  },
  {
   "cell_type": "code",
   "execution_count": 8,
   "id": "14ca442a-e7c1-4648-878a-f754d9a35530",
   "metadata": {},
   "outputs": [
    {
     "ename": "ModuleNotFoundError",
     "evalue": "No module named 'textblob'",
     "output_type": "error",
     "traceback": [
      "\u001b[1;31m---------------------------------------------------------------------------\u001b[0m",
      "\u001b[1;31mModuleNotFoundError\u001b[0m                       Traceback (most recent call last)",
      "\u001b[1;32m<ipython-input-8-a783089917fd>\u001b[0m in \u001b[0;36m<module>\u001b[1;34m\u001b[0m\n\u001b[1;32m----> 1\u001b[1;33m \u001b[1;32mfrom\u001b[0m \u001b[0mtextblob\u001b[0m \u001b[1;32mimport\u001b[0m \u001b[0mTextBlob\u001b[0m\u001b[1;33m\u001b[0m\u001b[1;33m\u001b[0m\u001b[0m\n\u001b[0m\u001b[0;32m      2\u001b[0m \u001b[1;32mfrom\u001b[0m \u001b[0mtextblob\u001b[0m\u001b[1;33m.\u001b[0m\u001b[0mtranslate\u001b[0m \u001b[1;32mimport\u001b[0m \u001b[0mNotTranslated\u001b[0m\u001b[1;33m\u001b[0m\u001b[1;33m\u001b[0m\u001b[0m\n\u001b[0;32m      3\u001b[0m \u001b[1;32mimport\u001b[0m \u001b[0mrandom\u001b[0m\u001b[1;33m\u001b[0m\u001b[1;33m\u001b[0m\u001b[0m\n\u001b[0;32m      4\u001b[0m \u001b[0msr\u001b[0m \u001b[1;33m=\u001b[0m \u001b[0mrandom\u001b[0m\u001b[1;33m.\u001b[0m\u001b[0mSystemRandom\u001b[0m\u001b[1;33m(\u001b[0m\u001b[1;33m)\u001b[0m\u001b[1;33m\u001b[0m\u001b[1;33m\u001b[0m\u001b[0m\n\u001b[0;32m      5\u001b[0m \u001b[1;33m\u001b[0m\u001b[0m\n",
      "\u001b[1;31mModuleNotFoundError\u001b[0m: No module named 'textblob'"
     ]
    }
   ],
   "source": [
    "from textblob import TextBlob\n",
    "from textblob.translate import NotTranslated\n",
    "import random\n",
    "sr = random.SystemRandom()\n",
    "\n",
    "language = [\"es\", \"de\", \"fr\", \"ar\", \"te\", \"hi\", \"ja\", \"fa\", \"sq\", \"bg\", \"nl\", \"gu\", \"ig\", \"kk\", \"mt\", \"ps\"]\n",
    "\n",
    "def data_augmentation(message, language, aug_range=1):\n",
    "    augmented_messages = []\n",
    "    if hasattr(message, \"decode\"):\n",
    "        message = message.decode(\"utf-8\")\n",
    "\n",
    "    for j in range(0,aug_range) :\n",
    "        new_message = \"\"\n",
    "        text = TextBlob(message)\n",
    "        try:\n",
    "            text = text.translate(to=sr.choice(language))   ## Converting to random langauge for meaningful variation\n",
    "            text = text.translate(to=\"en\")\n",
    "        except NotTranslated:\n",
    "            pass\n",
    "        augmented_messages.append(str(text))\n",
    "\n",
    "    return augmented_messages"
   ]
  },
  {
   "cell_type": "code",
   "execution_count": null,
   "id": "3bb63e8f-48f6-4243-98ec-e31c559f992b",
   "metadata": {},
   "outputs": [],
   "source": []
  }
 ],
 "metadata": {
  "kernelspec": {
   "display_name": "Python 3",
   "language": "python",
   "name": "python3"
  },
  "language_info": {
   "codemirror_mode": {
    "name": "ipython",
    "version": 3
   },
   "file_extension": ".py",
   "mimetype": "text/x-python",
   "name": "python",
   "nbconvert_exporter": "python",
   "pygments_lexer": "ipython3",
   "version": "3.8.8"
  }
 },
 "nbformat": 4,
 "nbformat_minor": 5
}
